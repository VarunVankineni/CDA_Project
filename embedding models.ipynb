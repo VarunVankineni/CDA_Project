{
 "cells": [
  {
   "cell_type": "code",
   "execution_count": 1,
   "id": "5eaba9db",
   "metadata": {},
   "outputs": [],
   "source": [
    "import gensim\n",
    "from gensim.models.wrappers import FastText\n",
    "\n",
    "import numpy as np"
   ]
  },
  {
   "cell_type": "code",
   "execution_count": 2,
   "id": "ed4db5d8",
   "metadata": {},
   "outputs": [],
   "source": [
    "class WordEmbedder():\n",
    "    def __init__(self, model_paths):\n",
    "        self.paths = model_paths\n",
    "        self.models = {}\n",
    "        \n",
    "    def load_models(self):\n",
    "        for path in self.paths.keys():\n",
    "            if path == 'fast_text':\n",
    "                self.models[path] = FastText.load_fasttext_format(self.paths[path])\n",
    "            \n",
    "            elif path == 'word2vec':\n",
    "                self.models[path] = gensim.models.KeyedVectors.load_word2vec_format(self.paths[path], binary=True)  \n",
    "            \n",
    "            elif path =='glove':\n",
    "                embeddings_dict = {}\n",
    "                with open(self.paths[path], 'r', encoding=\"utf8\") as f:\n",
    "                    for line in f:\n",
    "                        values = line.split()\n",
    "                        word = values[0]\n",
    "                        vector = np.asarray(values[1:], \"float32\")\n",
    "                        embeddings_dict[word] = vector\n",
    "                        \n",
    "                self.models[path] = embeddings_dict\n",
    "                \n",
    "    \n",
    "    def generate_embeddings(self, word, size = 300, subset = True):\n",
    "        \n",
    "        size = min(size, 300)\n",
    "        \n",
    "        vector_embeddings = []\n",
    "        \n",
    "        for model in self.models.keys():\n",
    "            try:\n",
    "                vector_embeddings.append(self.models[model][word][:size])\n",
    "            except KeyError:\n",
    "                print('word embedding for {} not found in {}'.format(word, model))\n",
    "            except:\n",
    "                print(\"unknown error\")\n",
    "                \n",
    "                \n",
    "        if (len(vector_embeddings) != len(self.models.values())) and subset == False:\n",
    "            vector_embeddings = None\n",
    "            \n",
    "        return np.array(vector_embeddings)\n",
    "            "
   ]
  },
  {
   "cell_type": "code",
   "execution_count": 3,
   "id": "8d1c55f9",
   "metadata": {},
   "outputs": [],
   "source": [
    "model_paths = {\n",
    "                'fast_text':  'cc.en.300',\n",
    "                'word2vec': 'GoogleNews-vectors-negative300.bin.gz',\n",
    "                'glove': 'glove.6B.300d.txt'\n",
    "                }"
   ]
  },
  {
   "cell_type": "code",
   "execution_count": 4,
   "id": "fcd7b58c",
   "metadata": {},
   "outputs": [],
   "source": [
    "embedder = WordEmbedder(model_paths)"
   ]
  },
  {
   "cell_type": "code",
   "execution_count": 5,
   "id": "a44bf28c",
   "metadata": {},
   "outputs": [],
   "source": [
    "embedder.load_models()"
   ]
  },
  {
   "cell_type": "code",
   "execution_count": 13,
   "id": "3f38b993",
   "metadata": {},
   "outputs": [
    {
     "name": "stdout",
     "output_type": "stream",
     "text": [
      "word embedding for raks not found in word2vec\n"
     ]
    }
   ],
   "source": [
    "a = embedder.generate_embeddings('raks', subset = False, size = 120)"
   ]
  },
  {
   "cell_type": "code",
   "execution_count": 14,
   "id": "ad5d3c8a",
   "metadata": {},
   "outputs": [
    {
     "data": {
      "text/plain": [
       "()"
      ]
     },
     "execution_count": 14,
     "metadata": {},
     "output_type": "execute_result"
    }
   ],
   "source": [
    "a.shape"
   ]
  }
 ],
 "metadata": {
  "kernelspec": {
   "display_name": "Python 3 (ipykernel)",
   "language": "python",
   "name": "python3"
  },
  "language_info": {
   "codemirror_mode": {
    "name": "ipython",
    "version": 3
   },
   "file_extension": ".py",
   "mimetype": "text/x-python",
   "name": "python",
   "nbconvert_exporter": "python",
   "pygments_lexer": "ipython3",
   "version": "3.8.15"
  }
 },
 "nbformat": 4,
 "nbformat_minor": 5
}
